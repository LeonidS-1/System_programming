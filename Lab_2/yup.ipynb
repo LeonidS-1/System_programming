{
 "cells": [
  {
   "cell_type": "code",
   "execution_count": 2,
   "metadata": {},
   "outputs": [
    {
     "data": {
      "text/html": [
       "<div>\n",
       "<style scoped>\n",
       "    .dataframe tbody tr th:only-of-type {\n",
       "        vertical-align: middle;\n",
       "    }\n",
       "\n",
       "    .dataframe tbody tr th {\n",
       "        vertical-align: top;\n",
       "    }\n",
       "\n",
       "    .dataframe thead th {\n",
       "        text-align: right;\n",
       "    }\n",
       "</style>\n",
       "<table border=\"1\" class=\"dataframe\">\n",
       "  <thead>\n",
       "    <tr style=\"text-align: right;\">\n",
       "      <th></th>\n",
       "      <th>Задание</th>\n",
       "      <th>Параметры</th>\n",
       "    </tr>\n",
       "  </thead>\n",
       "  <tbody>\n",
       "    <tr>\n",
       "      <th>0</th>\n",
       "      <td>1</td>\n",
       "      <td>S=QMzbakBZZOJsiwfnCQdUMxGKXmoProNjpZOP</td>\n",
       "    </tr>\n",
       "    <tr>\n",
       "      <th>1</th>\n",
       "      <td>2</td>\n",
       "      <td>[|, N=45, M =5, K = 9]</td>\n",
       "    </tr>\n",
       "    <tr>\n",
       "      <th>2</th>\n",
       "      <td>3</td>\n",
       "      <td>-</td>\n",
       "    </tr>\n",
       "    <tr>\n",
       "      <th>3</th>\n",
       "      <td>4</td>\n",
       "      <td>N=4825520901</td>\n",
       "    </tr>\n",
       "    <tr>\n",
       "      <th>4</th>\n",
       "      <td>5</td>\n",
       "      <td>-</td>\n",
       "    </tr>\n",
       "  </tbody>\n",
       "</table>\n",
       "</div>"
      ],
      "text/plain": [
       "   Задание                               Параметры\n",
       "0        1  S=QMzbakBZZOJsiwfnCQdUMxGKXmoProNjpZOP\n",
       "1        2                  [|, N=45, M =5, K = 9]\n",
       "2        3                                       -\n",
       "3        4                            N=4825520901\n",
       "4        5                                       -"
      ]
     },
     "execution_count": 2,
     "metadata": {},
     "output_type": "execute_result"
    }
   ],
   "source": [
    "import random as rd\n",
    "import pandas as pd\n",
    "import math\n",
    "\n",
    "Variant = 17\n",
    "rd.seed(Variant)\n",
    "Str1 = 'qwertyuioplkjhgfdsazxcvbnmQWERTYUIOPASDFGHJKLZXCVBNM'\n",
    "N = rd.randint(20,40)\n",
    "s1 = ''\n",
    "for i in range(N):\n",
    "    s1 += Str1[rd.randint(0, len(Str1)-1)]\n",
    "D = '!@#$%&*+:;|'[rd.randint(0,10)]\n",
    "N1 = rd.randint(3,30)\n",
    "N2 = int(N1 * (N1 + 1) / 2)\n",
    "if (int(N2/N1) - math.floor(N2/N1)) == 0:\n",
    "    M = int(N2 / N1)\n",
    "    K = int(N2 / M)\n",
    "else:\n",
    "    M = int(N2 / (N1 + 1))\n",
    "    K = int(N2 / M)\n",
    "N4 = rd.randint(123432, 5645634534)\n",
    "Data  = pd.DataFrame({'Задание':[1,2,3,4,5],'Параметры':['S='+s1,[D, 'N='+str(N2), \n",
    "                    'M ='+str(M), 'K = '+str(K)],'-','N='+str(N4),'-']})\n",
    "Data"
   ]
  },
  {
   "cell_type": "raw",
   "metadata": {
    "vscode": {
     "languageId": "raw"
    }
   },
   "source": []
  },
  {
   "cell_type": "raw",
   "metadata": {
    "vscode": {
     "languageId": "raw"
    }
   },
   "source": [
    "format ELF64\n",
    "\n",
    "public _start\n",
    "public exit\n",
    "public print_symb\n",
    "\n",
    "section '.data'\n",
    "  string db 'QMzbakBZZOJsiwfnCQdUMxGKXmoProNjpZOP'\n",
    "\n",
    "section '.bss' writable\n",
    "  place db 1\n",
    "\n",
    "section '.text' executable\n",
    "  _start:\n",
    "    mov rcx, 35\n",
    "\n",
    "    .iter:\n",
    "       mov al, [string+rcx]\n",
    "       push rcx             \n",
    "       call print_symb      \n",
    "       pop rcx             \n",
    "       dec rcx              \n",
    "       cmp rcx, -1         \n",
    "       jne .iter\n",
    "\n",
    "    call exit            \n",
    "\n",
    "print_symb:\n",
    "  push rax\n",
    "  mov eax, 1          \n",
    "  mov edi, 1          \n",
    "  pop rdx             \n",
    "  mov [place], dl     \n",
    "  mov rsi, place       \n",
    "  mov edx, 1          \n",
    "  syscall             \n",
    "  ret\n",
    "\n",
    "exit:\n",
    "  mov eax, 60       \n",
    "  xor edi, edi       \n",
    "  syscall"
   ]
  },
  {
   "attachments": {
    "Снимок экрана 2024-09-20 в 20.55.00.png": {
     "image/png": "[encoded data removed]"
    }
   },
   "cell_type": "markdown",
   "metadata": {},
   "source": [
    "![Снимок экрана 2024-09-20 в 20.55.00.png](<attachment:Снимок экрана 2024-09-20 в 20.55.00.png>)"
   ]
  },
  {
   "cell_type": "raw",
   "metadata": {
    "vscode": {
     "languageId": "raw"
    }
   },
   "source": [
    "format ELF64\n",
    "\n",
    "public _start\n",
    "public exit\n",
    "public print_symb\n",
    "\n",
    "section '.bss' writable\n",
    "  array db 5 dup ('|')   \n",
    "  newline db 9 dup (0xA) \n",
    "  place db 1\n",
    "\n",
    "section '.text' executable\n",
    "  _start:\n",
    "    xor rsi, rsi\n",
    "    .iter1:\n",
    "      xor rdi, rdi  \n",
    "      .iter2:\n",
    "        mov al, [array+rdi]\n",
    "        push rdi\n",
    "        call print_symb\n",
    "        pop rdi\n",
    "        inc rdi\n",
    "        cmp rdi, 5       \n",
    "        jne .iter2\n",
    "\n",
    "      mov al, [newline+rsi]\n",
    "      push rsi\n",
    "      call print_symb\n",
    "      pop rsi\n",
    "\n",
    "      inc rsi\n",
    "      cmp rsi, 9       \n",
    "      jne .iter1\n",
    "    call exit\n",
    "\n",
    "print_symb:\n",
    "  push rax           \n",
    "  mov [place], al    \n",
    "  mov eax, 4         \n",
    "  mov ebx, 1         \n",
    "  mov ecx, place     \n",
    "  mov edx, 1        \n",
    "  int 0x80           \n",
    "  pop rax            \n",
    "  ret\n",
    "\n",
    "exit:\n",
    "  mov eax, 1         \n",
    "  mov ebx, 0         \n",
    "  int 0x80\n",
    "  \n",
    "  "
   ]
  },
  {
   "attachments": {
    "Снимок экрана 2024-09-20 в 21.28.06.png": {
     "image/png": "[encoded data removed]"
    }
   },
   "cell_type": "markdown",
   "metadata": {},
   "source": [
    "![Снимок экрана 2024-09-20 в 21.28.06.png](<attachment:Снимок экрана 2024-09-20 в 21.28.06.png>)"
   ]
  },
  {
   "cell_type": "raw",
   "metadata": {
    "vscode": {
     "languageId": "raw"
    }
   },
   "source": [
    "format ELF64\n",
    "\n",
    "public _start\n",
    "public exit\n",
    "public print_symb\n",
    "\n",
    "section '.bss' writable\n",
    "  array db 9 dup ('|')\n",
    "  newline db 9 dup (0xA)\n",
    "  place db 1\n",
    "  count dq 0\n",
    "\n",
    "section '.text' executable\n",
    "  _start:\n",
    "    xor rsi, rsi\n",
    "\n",
    "    .iter1:              \n",
    "      xor rdi, rdi\n",
    "\n",
    "      mov rbx, [count] \n",
    "      inc rbx \n",
    "      mov [count], rbx\n",
    "\n",
    "      .iter2:\n",
    "        mov al, [array + rdi]\n",
    "        call print_symb\n",
    "        inc rdi  \n",
    "        cmp rdi, [count] \n",
    "        jne .iter2\n",
    "\n",
    "      mov al, [newline + rsi]\n",
    "      call print_symb \n",
    "\n",
    "      inc rsi \n",
    "      cmp rsi, 9 \n",
    "      jne .iter1\n",
    "\n",
    "    call exit \n",
    "\n",
    "print_symb:\n",
    "  push rax  \n",
    "  mov [place], al \n",
    "  mov eax, 4 \n",
    "  mov ebx, 1\n",
    "  mov ecx, place \n",
    "  mov edx, 1 \n",
    "  int 0x80\n",
    "  pop rax \n",
    "  ret\n",
    "\n",
    "exit:\n",
    "  mov eax, 1\n",
    "  xor ebx, ebx  \n",
    "  int 0x80 \n"
   ]
  },
  {
   "attachments": {
    "Снимок экрана 2024-09-20 в 21.55.29.png": {
     "image/png": "[encoded data removed]"
    }
   },
   "cell_type": "markdown",
   "metadata": {},
   "source": [
    "![Снимок экрана 2024-09-20 в 21.55.29.png](<attachment:Снимок экрана 2024-09-20 в 21.55.29.png>)"
   ]
  },
  {
   "cell_type": "raw",
   "metadata": {
    "vscode": {
     "languageId": "raw"
    }
   },
   "source": [
    "format ELF64\n",
    "\n",
    "public _start\n",
    "public exit\n",
    "public print_symb\n",
    "\n",
    "section '.bss' writable\n",
    "  number dq 4825520901\n",
    "  result dq 0             \n",
    "  ten dq 10               \n",
    "  place db 1             \n",
    "\n",
    "section '.text' executable\n",
    "  _start:\n",
    "    mov rax, [number]      \n",
    "    xor rbx, rbx            \n",
    "\n",
    "    .sum_loop:\n",
    "      xor rdx, rdx           \n",
    "      div qword [ten]         \n",
    "      add rbx, rdx            \n",
    "      cmp rax, 0              \n",
    "      jne .sum_loop           \n",
    "\n",
    "    mov [result], rbx       \n",
    "\n",
    "    ; Выводим результат\n",
    "    call print_symb        \n",
    "\n",
    "    mov eax, 60             \n",
    "    xor edi, edi        \n",
    "    call exit                  \n",
    "\n",
    "print_symb:\n",
    "    mov rax, [result]       \n",
    "    xor rbx, rbx            \n",
    "\n",
    "    cmp rax, 9\n",
    "    jle .single_digit       \n",
    "\n",
    "    mov rcx, 10             \n",
    "    .loop:\n",
    "        xor rdx, rdx           \n",
    "        div rcx                  \n",
    "        push rdx                \n",
    "        inc rbx                \n",
    "        test rax, rax           \n",
    "        jnz .loop                \n",
    "\n",
    "    .print_loop:\n",
    "        pop rax                 \n",
    "        add rax, '0'             \n",
    "        mov [place], al         \n",
    "\n",
    "        mov eax, 1               \n",
    "        mov edi, 1               \n",
    "        mov rsi, place           \n",
    "        mov edx, 1             \n",
    "        syscall\n",
    "\n",
    "        dec rbx                 \n",
    "        jnz .print_loop      \n",
    "\n",
    "        ret\n",
    "\n",
    "    .single_digit:\n",
    "        add rax, '0'            \n",
    "        mov [place], al        \n",
    "\n",
    "        mov eax, 1              \n",
    "        mov edi, 1             \n",
    "        mov rsi, place        \n",
    "        mov edx, 1              \n",
    "        syscall\n",
    "        ret\n",
    "\n",
    "exit:\n",
    "  mov eax, 1\n",
    "  mov ebx, 0\n",
    "  int 0x80\n"
   ]
  },
  {
   "attachments": {
    "image.png": {
     "image/png": "[encoded data removed]"
    }
   },
   "cell_type": "markdown",
   "metadata": {},
   "source": [
    "![image.png](attachment:image.png)"
   ]
  },
  {
   "cell_type": "code",
   "execution_count": null,
   "metadata": {
    "vscode": {
     "languageId": "c"
    }
   },
   "outputs": [],
   "source": [
    "# include <stdio.h>\n",
    "\n",
    "int main() {\n",
    "    long long number = 4825520901;\n",
    "    int sum = 0;\n",
    "\n",
    "    do{\n",
    "        sum += number % 10;\n",
    "        number /= 10;  \n",
    "    }while (number > 0) ;\n",
    "            \n",
    "    \n",
    "\n",
    "    printf(\"%d\\n\", sum);\n",
    "    return 0;\n",
    "}"
   ]
  },
  {
   "cell_type": "code",
   "execution_count": null,
   "metadata": {
    "vscode": {
     "languageId": "c"
    }
   },
   "outputs": [],
   "source": [
    "# include <stdio.h>\n",
    "int main() {\n",
    "    long n = 4825520901;\n",
    "    char s = 0;    \n",
    "    for (; n; n /= 10) s += n % 10;    \n",
    "    printf(\"%d\\n\", s);\n",
    "    return 0;\n",
    "}"
   ]
  },
  {
   "cell_type": "markdown",
   "metadata": {
    "vscode": {
     "languageId": "raw"
    }
   },
   "source": [
    "format ELF64\n",
    "\n",
    "public _start\n",
    "public exit\n",
    "public print_symb\n",
    "\n",
    "section '.bss' writable\n",
    "  number dq 4825520901    ; Измененное число\n",
    "  result dq 0            \n",
    "  ten dq 10                  \n",
    "  place db 1         \n",
    "\n",
    "section '.text' executable\n",
    "  _start:\n",
    "    mov rax, [number]      \n",
    "    xor rbx, rbx            \n",
    "    .sum_loop:\n",
    "      xor rdx, rdx           \n",
    "      div qword [ten]         \n",
    "      add rbx, rdx            \n",
    "      test rax, rax              \n",
    "      jnz .sum_loop        \n",
    "    mov [result], rbx        \n",
    "    call print_symb         \n",
    "    mov eax, 60              \n",
    "    xor edi, edi        \n",
    "    syscall                  \n",
    "\n",
    "print_symb:\n",
    "    mov rax, [result]       \n",
    "    mov rdi, 10             \n",
    "    xor rbx, rbx             \n",
    "    cmp rax, 0\n",
    "    je .print_zero\n",
    "    .loop:\n",
    "        xor rdx, rdx           \n",
    "        div rdi               \n",
    "        push rdx                \n",
    "        inc rbx                \n",
    "        test rax, rax           \n",
    "        jnz .loop                 \n",
    "    .print_loop:\n",
    "        pop rax                  \n",
    "        add rax, '0'             \n",
    "        mov [place], al         \n",
    "        mov eax, 1              \n",
    "        mov edi, 1              \n",
    "        mov rsi, place         \n",
    "        mov edx, 1              \n",
    "        syscall\n",
    "        dec rbx                 \n",
    "        jnz .print_loop       \n",
    "    ret\n",
    "    .print_zero:\n",
    "        mov byte [place], '0'\n",
    "        mov eax, 1              \n",
    "        mov edi, 1              \n",
    "        mov rsi, place         \n",
    "        mov edx, 1              \n",
    "        syscall\n",
    "        ret\n",
    "\n",
    "exit:\n",
    "  mov eax, 60\n",
    "  xor edi, edi\n",
    "  syscall\n"
   ]
  }
 ],
 "metadata": {
  "kernelspec": {
   "display_name": "Python 3",
   "language": "python",
   "name": "python3"
  },
  "language_info": {
   "codemirror_mode": {
    "name": "ipython",
    "version": 3
   },
   "file_extension": ".py",
   "mimetype": "text/x-python",
   "name": "python",
   "nbconvert_exporter": "python",
   "pygments_lexer": "ipython3",
   "version": "3.12.1"
  }
 },
 "nbformat": 4,
 "nbformat_minor": 2
}
